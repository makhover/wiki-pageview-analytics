{
 "cells": [
  {
   "cell_type": "markdown",
   "metadata": {},
   "source": [
    "# Тестовое задание Маховера Антона на позицию разработичк DWH"
   ]
  },
  {
   "cell_type": "code",
   "execution_count": 315,
   "metadata": {
    "collapsed": false
   },
   "outputs": [
    {
     "name": "stdout",
     "output_type": "stream",
     "text": [
      "Pandas version 0.17.1\n",
      "Matlab version 1.5.0\n",
      "NumPy version 1.10.1\n"
     ]
    }
   ],
   "source": [
    "import pandas as pd\n",
    "import numpy as np\n",
    "import matplotlib.pyplot as plt\n",
    "import matplotlib as mpl\n",
    "\n",
    "import warnings\n",
    "warnings.filterwarnings(\"ignore\")\n",
    "\n",
    "# для встроенных картинок\n",
    "\n",
    "%matplotlib inline\n",
    "# чуть покрасивше картинки:\n",
    "figsize(15, 5)\n",
    "\n",
    "\n",
    "plt.rc('text', usetex=False)\n",
    "plt.rc('font', family='serif')\n",
    "plt.rc('font', weight='bold')\n",
    "plt.rc('xtick', labelsize=10) \n",
    "plt.rc('ytick', labelsize=14)\n",
    "\n",
    "# http://stackoverflow.com/questions/33995707/attributeerror-unknown-property-color-cycle\n",
    "matplotlib.style.use('ggplot')\n",
    "\n",
    "from matplotlib import rc\n",
    " \n",
    "font = {'family': 'Verdana',\n",
    "        'weight': 'normal'}\n",
    "rc('font', **font)\n",
    "\n",
    "print (\"Pandas version \" + pd.__version__)\n",
    "print (\"Matlab version \" + mpl.__version__)\n",
    "print (\"NumPy version \" + np.__version__)"
   ]
  },
  {
   "cell_type": "markdown",
   "metadata": {},
   "source": [
    "## 1. Загружаем данные по просмотрам страниц википедии за 31.10 (около 10млн)"
   ]
  },
  {
   "cell_type": "code",
   "execution_count": 274,
   "metadata": {
    "collapsed": false
   },
   "outputs": [
    {
     "data": {
      "text/html": [
       "<div>\n",
       "<table border=\"1\" class=\"dataframe\">\n",
       "  <thead>\n",
       "    <tr style=\"text-align: right;\">\n",
       "      <th></th>\n",
       "      <th>time</th>\n",
       "      <th>project</th>\n",
       "      <th>page</th>\n",
       "      <th>counter</th>\n",
       "      <th>modified</th>\n",
       "      <th>date</th>\n",
       "    </tr>\n",
       "    <tr>\n",
       "      <th>id</th>\n",
       "      <th></th>\n",
       "      <th></th>\n",
       "      <th></th>\n",
       "      <th></th>\n",
       "      <th></th>\n",
       "      <th></th>\n",
       "    </tr>\n",
       "  </thead>\n",
       "  <tbody>\n",
       "    <tr>\n",
       "      <th>1</th>\n",
       "      <td>2016-10-31</td>\n",
       "      <td>ru</td>\n",
       "      <td>!</td>\n",
       "      <td>1</td>\n",
       "      <td>2016-11-01 18:58:02</td>\n",
       "      <td>2016-10-31</td>\n",
       "    </tr>\n",
       "    <tr>\n",
       "      <th>2</th>\n",
       "      <td>2016-10-31</td>\n",
       "      <td>ru</td>\n",
       "      <td>!!!</td>\n",
       "      <td>2</td>\n",
       "      <td>2016-11-01 18:58:02</td>\n",
       "      <td>2016-10-31</td>\n",
       "    </tr>\n",
       "    <tr>\n",
       "      <th>3</th>\n",
       "      <td>2016-10-31</td>\n",
       "      <td>ru</td>\n",
       "      <td>!!_(значения)</td>\n",
       "      <td>1</td>\n",
       "      <td>2016-11-01 18:58:02</td>\n",
       "      <td>2016-10-31</td>\n",
       "    </tr>\n",
       "    <tr>\n",
       "      <th>4</th>\n",
       "      <td>2016-10-31</td>\n",
       "      <td>ru</td>\n",
       "      <td>!_(альбом)</td>\n",
       "      <td>1</td>\n",
       "      <td>2016-11-01 18:58:02</td>\n",
       "      <td>2016-10-31</td>\n",
       "    </tr>\n",
       "    <tr>\n",
       "      <th>5</th>\n",
       "      <td>2016-10-31</td>\n",
       "      <td>ru</td>\n",
       "      <td>!ФЕСТ</td>\n",
       "      <td>1</td>\n",
       "      <td>2016-11-01 18:58:02</td>\n",
       "      <td>2016-10-31</td>\n",
       "    </tr>\n",
       "  </tbody>\n",
       "</table>\n",
       "</div>"
      ],
      "text/plain": [
       "         time project           page  counter             modified        date\n",
       "id                                                                            \n",
       "1  2016-10-31      ru              !        1  2016-11-01 18:58:02  2016-10-31\n",
       "2  2016-10-31      ru            !!!        2  2016-11-01 18:58:02  2016-10-31\n",
       "3  2016-10-31      ru  !!_(значения)        1  2016-11-01 18:58:02  2016-10-31\n",
       "4  2016-10-31      ru     !_(альбом)        1  2016-11-01 18:58:02  2016-10-31\n",
       "5  2016-10-31      ru          !ФЕСТ        1  2016-11-01 18:58:02  2016-10-31"
      ]
     },
     "execution_count": 274,
     "metadata": {},
     "output_type": "execute_result"
    }
   ],
   "source": [
    "df = pd.read_csv('pageview_20161031.csv', delimiter=\"\\t\", \n",
    "                 names=['id', 'time', 'project', 'page', 'counter', 'modified'], index_col='id', parse_dates=2) \n",
    "df['time'] = pd.to_datetime(df['time'])\n",
    "df['date'] = df['time'].dt.date\n",
    "df.count()\n",
    "df.head()"
   ]
  },
  {
   "cell_type": "markdown",
   "metadata": {},
   "source": [
    "## 2. Общая статистика за 31.10"
   ]
  },
  {
   "cell_type": "code",
   "execution_count": 317,
   "metadata": {
    "collapsed": false
   },
   "outputs": [
    {
     "data": {
      "text/plain": [
       "<matplotlib.text.Text at 0x25b826908>"
      ]
     },
     "execution_count": 317,
     "metadata": {},
     "output_type": "execute_result"
    },
    {
     "data": {
      "image/png": "[encoded data removed]",
      "text/plain": [
       "<matplotlib.figure.Figure at 0x270e57908>"
      ]
     },
     "metadata": {},
     "output_type": "display_data"
    }
   ],
   "source": [
    "df.dtypes\n",
    "\n",
    "daily = df[[\"time\",\"counter\"]].groupby(\"time\").sum()\n",
    "pl = daily.plot(kind='bar', color='r', title = u'Daily activity', legend=False)\n",
    "pl.set_ylabel(u'Количество просмотров страниц')"
   ]
  },
  {
   "cell_type": "markdown",
   "metadata": {},
   "source": [
    "## 3. Сравнение результатов просмотра страниц"
   ]
  },
  {
   "cell_type": "code",
   "execution_count": 316,
   "metadata": {
    "collapsed": false
   },
   "outputs": [
    {
     "data": {
      "text/plain": [
       "<matplotlib.text.Text at 0x2517354a8>"
      ]
     },
     "execution_count": 316,
     "metadata": {},
     "output_type": "execute_result"
    },
    {
     "data": {
      "image/png": "[encoded data removed]",
      "text/plain": [
       "<matplotlib.figure.Figure at 0x2513b1b70>"
      ]
     },
     "metadata": {},
     "output_type": "display_data"
    }
   ],
   "source": [
    "\n",
    "usa_votes = df[(df['page'] == 'Клинтон,_Хиллари')\n",
    "               | (df['page'] == 'Трамп,_Дональд')\n",
    "               | (df['page'] == 'Путин,_Владимир_Владимирович')]\n",
    "\n",
    "usa_votes = usa_votes[['time', 'page', 'counter']].groupby(['page']).sum()\n",
    "pl = usa_votes.plot.barh(title=u'Президентская гонка')\n",
    "pl.set_xlabel(u'Количество просмотров')\n",
    "pl.set_xlabel(u'Страницы')\n",
    "#pd.pivot_table(usa_votes, index=[\"dtm\"], columns=['page'], values=[\"counter\"], aggfunc=np.sum)\n"
   ]
  },
  {
   "cell_type": "markdown",
   "metadata": {},
   "source": [
    "## 4. TOP 30 самых посещаемых страниц за сутки"
   ]
  },
  {
   "cell_type": "code",
   "execution_count": 319,
   "metadata": {
    "collapsed": false
   },
   "outputs": [
    {
     "data": {
      "text/html": [
       "<div>\n",
       "<table border=\"1\" class=\"dataframe\">\n",
       "  <thead>\n",
       "    <tr style=\"text-align: right;\">\n",
       "      <th></th>\n",
       "      <th></th>\n",
       "      <th>pageview</th>\n",
       "    </tr>\n",
       "    <tr>\n",
       "      <th>date</th>\n",
       "      <th>page</th>\n",
       "      <th></th>\n",
       "    </tr>\n",
       "  </thead>\n",
       "  <tbody>\n",
       "    <tr>\n",
       "      <th rowspan=\"30\" valign=\"top\">2016-10-31</th>\n",
       "      <th>Заглавная_страница</th>\n",
       "      <td>1368877</td>\n",
       "    </tr>\n",
       "    <tr>\n",
       "      <th>Зельдин,_Владимир_Михайлович</th>\n",
       "      <td>433069</td>\n",
       "    </tr>\n",
       "    <tr>\n",
       "      <th>Служебная:Поиск</th>\n",
       "      <td>176623</td>\n",
       "    </tr>\n",
       "    <tr>\n",
       "      <th>Хеллоуин</th>\n",
       "      <td>150875</td>\n",
       "    </tr>\n",
       "    <tr>\n",
       "      <th>-</th>\n",
       "      <td>98019</td>\n",
       "    </tr>\n",
       "    <tr>\n",
       "      <th>Аксёнов,_Василий_Павлович</th>\n",
       "      <td>71449</td>\n",
       "    </tr>\n",
       "    <tr>\n",
       "      <th>Евтушенко,_Евгений_Александрович</th>\n",
       "      <td>48116</td>\n",
       "    </tr>\n",
       "    <tr>\n",
       "      <th>Шиманская,_Марина_Мечиславовна</th>\n",
       "      <td>46855</td>\n",
       "    </tr>\n",
       "    <tr>\n",
       "      <th>Ахмадулина,_Белла_Ахатовна</th>\n",
       "      <td>42724</td>\n",
       "    </tr>\n",
       "    <tr>\n",
       "      <th>Островская,_Генриетта_Тимофеевна</th>\n",
       "      <td>25444</td>\n",
       "    </tr>\n",
       "    <tr>\n",
       "      <th>Президентские_выборы_в_США_(2016)</th>\n",
       "      <td>21765</td>\n",
       "    </tr>\n",
       "    <tr>\n",
       "      <th>День_народного_единства</th>\n",
       "      <td>20838</td>\n",
       "    </tr>\n",
       "    <tr>\n",
       "      <th>Служебная:Свежие_правки</th>\n",
       "      <td>19537</td>\n",
       "    </tr>\n",
       "    <tr>\n",
       "      <th>Доктор_Стрэндж_(фильм,_2016)</th>\n",
       "      <td>19508</td>\n",
       "    </tr>\n",
       "    <tr>\n",
       "      <th>Катастрофа_A321_над_Синайским_полуостровом</th>\n",
       "      <td>19486</td>\n",
       "    </tr>\n",
       "    <tr>\n",
       "      <th>Доктор_Стрэндж</th>\n",
       "      <td>18319</td>\n",
       "    </tr>\n",
       "    <tr>\n",
       "      <th>Арлаускас,_Альгис_Иозасович</th>\n",
       "      <td>17228</td>\n",
       "    </tr>\n",
       "    <tr>\n",
       "      <th>Рождественский,_Роберт_Иванович</th>\n",
       "      <td>16360</td>\n",
       "    </tr>\n",
       "    <tr>\n",
       "      <th>Special:Search</th>\n",
       "      <td>16179</td>\n",
       "    </tr>\n",
       "    <tr>\n",
       "      <th>Ящур</th>\n",
       "      <td>15006</td>\n",
       "    </tr>\n",
       "    <tr>\n",
       "      <th>Адмирал_Флота_Советского_Союза_Кузнецов</th>\n",
       "      <td>14707</td>\n",
       "    </tr>\n",
       "    <tr>\n",
       "      <th>Служебная:Вход</th>\n",
       "      <td>14668</td>\n",
       "    </tr>\n",
       "    <tr>\n",
       "      <th>Моисей</th>\n",
       "      <td>13803</td>\n",
       "    </tr>\n",
       "    <tr>\n",
       "      <th>Служебная:Список_наблюдения</th>\n",
       "      <td>13756</td>\n",
       "    </tr>\n",
       "    <tr>\n",
       "      <th>Анненков,_Николай_Александрович</th>\n",
       "      <td>13568</td>\n",
       "    </tr>\n",
       "    <tr>\n",
       "      <th>Гарри_Поттер</th>\n",
       "      <td>13322</td>\n",
       "    </tr>\n",
       "    <tr>\n",
       "      <th>Россия</th>\n",
       "      <td>12870</td>\n",
       "    </tr>\n",
       "    <tr>\n",
       "      <th>Свинарка_и_пастух</th>\n",
       "      <td>12846</td>\n",
       "    </tr>\n",
       "    <tr>\n",
       "      <th>31_октября</th>\n",
       "      <td>12703</td>\n",
       "    </tr>\n",
       "    <tr>\n",
       "      <th>Этуш,_Владимир_Абрамович</th>\n",
       "      <td>12517</td>\n",
       "    </tr>\n",
       "  </tbody>\n",
       "</table>\n",
       "</div>"
      ],
      "text/plain": [
       "                                                       pageview\n",
       "date       page                                                \n",
       "2016-10-31 Заглавная_страница                           1368877\n",
       "           Зельдин,_Владимир_Михайлович                  433069\n",
       "           Служебная:Поиск                               176623\n",
       "           Хеллоуин                                      150875\n",
       "           -                                              98019\n",
       "           Аксёнов,_Василий_Павлович                      71449\n",
       "           Евтушенко,_Евгений_Александрович               48116\n",
       "           Шиманская,_Марина_Мечиславовна                 46855\n",
       "           Ахмадулина,_Белла_Ахатовна                     42724\n",
       "           Островская,_Генриетта_Тимофеевна               25444\n",
       "           Президентские_выборы_в_США_(2016)              21765\n",
       "           День_народного_единства                        20838\n",
       "           Служебная:Свежие_правки                        19537\n",
       "           Доктор_Стрэндж_(фильм,_2016)                   19508\n",
       "           Катастрофа_A321_над_Синайским_полуостровом     19486\n",
       "           Доктор_Стрэндж                                 18319\n",
       "           Арлаускас,_Альгис_Иозасович                    17228\n",
       "           Рождественский,_Роберт_Иванович                16360\n",
       "           Special:Search                                 16179\n",
       "           Ящур                                           15006\n",
       "           Адмирал_Флота_Советского_Союза_Кузнецов        14707\n",
       "           Служебная:Вход                                 14668\n",
       "           Моисей                                         13803\n",
       "           Служебная:Список_наблюдения                    13756\n",
       "           Анненков,_Николай_Александрович                13568\n",
       "           Гарри_Поттер                                   13322\n",
       "           Россия                                         12870\n",
       "           Свинарка_и_пастух                              12846\n",
       "           31_октября                                     12703\n",
       "           Этуш,_Владимир_Абрамович                       12517"
      ]
     },
     "execution_count": 319,
     "metadata": {},
     "output_type": "execute_result"
    }
   ],
   "source": [
    "top50 = df[['date', 'page', 'counter']].groupby(['date', 'page']).sum()\n",
    "top50 = top50.nlargest(30, 'counter')\n",
    "top50.columns = [ 'pageview']\n",
    "\n",
    "top50"
   ]
  },
  {
   "cell_type": "markdown",
   "metadata": {},
   "source": [
    "## 5.Распределение количества cтраниц по количеству просмотров"
   ]
  },
  {
   "cell_type": "code",
   "execution_count": null,
   "metadata": {
    "collapsed": true
   },
   "outputs": [],
   "source": [
    "sql_query = \"\"\"\n",
    "select \n",
    "    pv page_view,\n",
    "    count(*) as count_of_pages\n",
    "from\n",
    "(\n",
    "    select page, sum(count) pv\n",
    "    from pageview\n",
    "    group by page\n",
    ")\n",
    "group by pv\n",
    "\"\"\""
   ]
  },
  {
   "cell_type": "code",
   "execution_count": null,
   "metadata": {
    "collapsed": false,
    "scrolled": true
   },
   "outputs": [],
   "source": []
  },
  {
   "cell_type": "code",
   "execution_count": null,
   "metadata": {
    "collapsed": true
   },
   "outputs": [],
   "source": []
  }
 ],
 "metadata": {
  "kernelspec": {
   "display_name": "Python 2",
   "language": "python",
   "name": "python2"
  },
  "language_info": {
   "codemirror_mode": {
    "name": "ipython",
    "version": 2
   },
   "file_extension": ".py",
   "mimetype": "text/x-python",
   "name": "python",
   "nbconvert_exporter": "python",
   "pygments_lexer": "ipython2",
   "version": "2.7.11"
  }
 },
 "nbformat": 4,
 "nbformat_minor": 0
}
